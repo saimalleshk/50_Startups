{
  "nbformat": 4,
  "nbformat_minor": 0,
  "metadata": {
    "colab": {
      "provenance": [],
      "authorship_tag": "ABX9TyMX0zsscS56MzIWm3Uigm/x",
      "include_colab_link": true
    },
    "kernelspec": {
      "name": "python3",
      "display_name": "Python 3"
    },
    "language_info": {
      "name": "python"
    }
  },
  "cells": [
    {
      "cell_type": "markdown",
      "metadata": {
        "id": "view-in-github",
        "colab_type": "text"
      },
      "source": [
        "<a href=\"https://colab.research.google.com/github/saimalleshk/50_Startups/blob/master/datatest.ipynb\" target=\"_parent\"><img src=\"https://colab.research.google.com/assets/colab-badge.svg\" alt=\"Open In Colab\"/></a>"
      ]
    },
    {
      "cell_type": "code",
      "execution_count": null,
      "metadata": {
        "id": "8lyldAHn8x0u"
      },
      "outputs": [],
      "source": []
    },
    {
      "cell_type": "markdown",
      "source": [
        "Data handling is myth"
      ],
      "metadata": {
        "id": "VFTACXct-B2X"
      }
    },
    {
      "cell_type": "code",
      "source": [],
      "metadata": {
        "id": "F-JnxVbg-Ufd"
      },
      "execution_count": null,
      "outputs": []
    }
  ]
}